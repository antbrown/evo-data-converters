{
 "cells": [
  {
   "cell_type": "markdown",
   "metadata": {},
   "source": [
    "# Publish Downhole Collection from a collection of GEF-CPT files\n",
    "\n",
    "This notebook shows how you can login to Evo and publish a Downhole Collection from a collection of GEF-CPT files to your chosen workspace.\n",
    "\n",
    "In this first cell we create a ServiceManagerWidget which will open a browser window and ask you to login.\n",
    "\n",
    "Once logged in, a widget will be displayed below allowing you to select an organisation and workspace to publish objects to.\n",
    "\n",
    "__Required:__ You must fill in your `client_id` before running this cell."
   ]
  },
  {
   "cell_type": "code",
   "execution_count": null,
   "metadata": {},
   "outputs": [],
   "source": [
    "from evo.notebooks import ServiceManagerWidget\n",
    "\n",
    "manager = await ServiceManagerWidget.with_auth_code(client_id=\"your-client-id\").login()"
   ]
  },
  {
   "cell_type": "markdown",
   "metadata": {},
   "source": [
    "In the cell below we choose the GEF-CPT files we want to publish into the Downhole Collection and set the paths in the `gef_files` variable.\n",
    "\n",
    "You may also specify tags to add to the created Geoscience objects.\n",
    "\n",
    "Then we call `convert_gef`, passing it the GEF-CPT file paths, the service manager widget from above and finally a path we want the published objects to appear under.\n",
    "\n",
    "Then we display the result from the `convert_gef` function, printing out details about the object that was published to Evo."
   ]
  },
  {
   "cell_type": "code",
   "execution_count": null,
   "metadata": {},
   "outputs": [],
   "source": [
    "import glob\n",
    "import pprint\n",
    "\n",
    "from evo.data_converters.gef.importer import convert_gef\n",
    "\n",
    "gef_files = glob.glob(\"data/input/*\")\n",
    "\n",
    "tags = {\"TagName\": \"Tag value\"}\n",
    "\n",
    "objects_metadata = convert_gef(\n",
    "    filepaths=gef_files, service_manager_widget=manager, tags=tags, upload_path=\"gef-notebook\"\n",
    ")\n",
    "\n",
    "print()\n",
    "print(\"These objects have now been published:\")\n",
    "\n",
    "for metadata in objects_metadata:\n",
    "    pprint.pp(metadata, indent=4)"
   ]
  }
 ],
 "metadata": {
  "kernelspec": {
   "display_name": ".venv",
   "language": "python",
   "name": "python3"
  },
  "language_info": {
   "codemirror_mode": {
    "name": "ipython",
    "version": 3
   },
   "file_extension": ".py",
   "mimetype": "text/x-python",
   "name": "python",
   "nbconvert_exporter": "python",
   "pygments_lexer": "ipython3",
   "version": "3.10.12"
  }
 },
 "nbformat": 4,
 "nbformat_minor": 2
}
