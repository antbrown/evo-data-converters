{
 "cells": [
  {
   "cell_type": "code",
   "execution_count": null,
   "id": "0",
   "metadata": {},
   "outputs": [],
   "source": [
    "from evo.notebooks import ServiceManagerWidget\n",
    "\n",
    "manager = await ServiceManagerWidget.with_auth_code(client_id=\"your-client-id\").login()"
   ]
  },
  {
   "cell_type": "code",
   "execution_count": null,
   "id": "1",
   "metadata": {},
   "outputs": [],
   "source": [
    "from evo.data_converters.common import create_evo_object_service_and_data_client\n",
    "\n",
    "object_service_client, data_client = create_evo_object_service_and_data_client(service_manager_widget=manager)"
   ]
  },
  {
   "cell_type": "code",
   "execution_count": null,
   "id": "2",
   "metadata": {},
   "outputs": [],
   "source": [
    "import glob\n",
    "from pprint import pprint\n",
    "from evo.data_converters.gef.importer import create_from_parsed_gef_cpts, parse_gef_files\n",
    "from evo.data_converters.common.objects.downhole_collection_to_go import DownholeCollectionToGeoscienceObject\n",
    "\n",
    "gef_files = glob.glob(\"data/input/*.gef\")\n",
    "parsed_cpt_files = parse_gef_files(gef_files)\n",
    "# pprint(parsed_cpt_files)\n",
    "\n",
    "downhole_collection = create_from_parsed_gef_cpts(parsed_cpt_files)\n",
    "converter = DownholeCollectionToGeoscienceObject(dhc=downhole_collection, data_client=data_client)\n",
    "geoscience_object = converter.convert()\n",
    "\n",
    "pprint(downhole_collection.is_collars_valid())\n",
    "pprint(downhole_collection.measurement_type())\n",
    "\n",
    "pprint(downhole_collection)\n",
    "pprint(geoscience_object)"
   ]
  }
 ],
 "metadata": {
  "kernelspec": {
   "display_name": ".venv",
   "language": "python",
   "name": "python3"
  },
  "language_info": {
   "codemirror_mode": {
    "name": "ipython",
    "version": 3
   },
   "file_extension": ".py",
   "mimetype": "text/x-python",
   "name": "python",
   "nbconvert_exporter": "python",
   "pygments_lexer": "ipython3",
   "version": "3.10.12"
  }
 },
 "nbformat": 4,
 "nbformat_minor": 5
}
