{
 "cells": [
  {
   "cell_type": "code",
   "execution_count": null,
   "id": "0",
   "metadata": {},
   "outputs": [],
   "source": [
    "from evo.notebooks import ServiceManagerWidget\n",
    "\n",
    "manager = await ServiceManagerWidget.with_auth_code(\n",
    "    client_id=\"your-client-id\",\n",
    "    base_uri=\"https://qa-ims.bentley.com\",\n",
    "    discovery_url=\"https://uat-api.test.seequent.systems\",\n",
    ").login()"
   ]
  },
  {
   "cell_type": "code",
   "execution_count": null,
   "id": "1",
   "metadata": {},
   "outputs": [],
   "source": [
    "from evo.data_converters.common import create_evo_object_service_and_data_client\n",
    "\n",
    "object_service_client, data_client = create_evo_object_service_and_data_client(service_manager_widget=manager)"
   ]
  },
  {
   "cell_type": "code",
   "execution_count": null,
   "id": "2",
   "metadata": {},
   "outputs": [],
   "source": [
    "from pprint import pprint\n",
    "from evo.data_converters.gef.importer import parse_gef_files\n",
    "\n",
    "from evo.data_converters.gef.importer.gef_to_downhole_collection import (\n",
    "    create_bounding_box,\n",
    "    create_coordinate_reference_system,\n",
    "    create_dc_hole_chunks,\n",
    "    create_dc_location,\n",
    "    create_dc_location_coordinates,\n",
    "    create_dc_location_distances,\n",
    "    create_dc_location_hole_id,\n",
    "    create_dc_location_path,\n",
    ")\n",
    "\n",
    "parsed_cpt_files = parse_gef_files([\"data/cpt.gef\"])\n",
    "# pprint(parsed_cpt_files)\n",
    "\n",
    "first_cpt_data = next(iter(parsed_cpt_files.values()))\n",
    "\n",
    "coordinate_reference_system = create_coordinate_reference_system(first_cpt_data)\n",
    "# pprint(coordinate_reference_system)\n",
    "\n",
    "bounding_box = create_bounding_box(parsed_cpt_files)\n",
    "# pprint(bounding_box)\n",
    "\n",
    "dc_location_coordinates = create_dc_location_coordinates(parsed_cpt_files, data_client)\n",
    "# pprint(dc_location_coordinates)\n",
    "\n",
    "dc_location_distances = create_dc_location_distances(parsed_cpt_files, data_client)\n",
    "# pprint(dc_location_distances)\n",
    "\n",
    "dc_location_holes = create_dc_hole_chunks(parsed_cpt_files, data_client)\n",
    "# pprint(dc_location_holes)\n",
    "\n",
    "dc_location_hole_id = create_dc_location_hole_id(parsed_cpt_files, data_client)\n",
    "# pprint(dc_location_hole_id)\n",
    "\n",
    "dc_location_path = create_dc_location_path(parsed_cpt_files, data_client)\n",
    "# pprint(dc_location_path)\n",
    "\n",
    "dc_location = create_dc_location(parsed_cpt_files, data_client)\n",
    "pprint(dc_location)"
   ]
  }
 ],
 "metadata": {
  "kernelspec": {
   "display_name": ".venv",
   "language": "python",
   "name": "python3"
  },
  "language_info": {
   "codemirror_mode": {
    "name": "ipython",
    "version": 3
   },
   "file_extension": ".py",
   "mimetype": "text/x-python",
   "name": "python",
   "nbconvert_exporter": "python",
   "pygments_lexer": "ipython3",
   "version": "3.10.12"
  }
 },
 "nbformat": 4,
 "nbformat_minor": 5
}
