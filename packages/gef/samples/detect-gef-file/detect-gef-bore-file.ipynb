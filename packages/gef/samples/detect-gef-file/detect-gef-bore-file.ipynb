{
 "cells": [
  {
   "cell_type": "markdown",
   "id": "0",
   "metadata": {},
   "source": [
    "## Detect a GEF Bore file\n",
    "\n",
    "This example shows how to use the Evo data converters library to check if a file is a GEF Bore file.\n",
    "\n",
    "Use `SEEQUENT_EVO_TESTFILE_GEF_BORE` to provide a glob of files to test, eg \"/path-to-samples/gef/bore/*/*.gef\"."
   ]
  },
  {
   "cell_type": "code",
   "execution_count": null,
   "id": "1",
   "metadata": {},
   "outputs": [],
   "source": [
    "import os\n",
    "\n",
    "from pygef import read_bore\n",
    "\n",
    "file = os.path.join(f\"{os.getcwd()}/data/input/bore.gef\")\n",
    "\n",
    "try:\n",
    "    cpt = read_bore(file)\n",
    "    print(f\"Read GEF Bore file: {file}\")\n",
    "except Exception as e:\n",
    "    print(f\"Not a GEF Bore file: {file}\")\n",
    "    print(f\"{type(e).__name__}: {e}\")"
   ]
  },
  {
   "cell_type": "code",
   "execution_count": null,
   "id": "2",
   "metadata": {},
   "outputs": [],
   "source": [
    "import os\n",
    "import glob\n",
    "\n",
    "from pygef import read_bore\n",
    "\n",
    "pattern = os.getenv(\"SEEQUENT_EVO_TESTFILE_GEF_BORE\", f\"{os.getcwd()}/data/input/bore.gef\")\n",
    "test_files = glob.glob(pattern)\n",
    "\n",
    "for file in test_files:\n",
    "    try:\n",
    "        cpt = read_bore(file)\n",
    "        print(f\"Read GEF Bore file: {file}\")\n",
    "    except Exception as e:\n",
    "        print(f\"Not a GEF Bore file: {file}\")\n",
    "        print(f\"{type(e).__name__}: {e}\")"
   ]
  },
  {
   "cell_type": "code",
   "execution_count": null,
   "id": "3",
   "metadata": {},
   "outputs": [],
   "source": []
  }
 ],
 "metadata": {
  "kernelspec": {
   "display_name": "Python (GEF)",
   "language": "python",
   "name": "my_project_env"
  },
  "language_info": {
   "codemirror_mode": {
    "name": "ipython",
    "version": 3
   },
   "file_extension": ".py",
   "mimetype": "text/x-python",
   "name": "python",
   "nbconvert_exporter": "python",
   "pygments_lexer": "ipython3",
   "version": "3.10.12"
  }
 },
 "nbformat": 4,
 "nbformat_minor": 5
}
