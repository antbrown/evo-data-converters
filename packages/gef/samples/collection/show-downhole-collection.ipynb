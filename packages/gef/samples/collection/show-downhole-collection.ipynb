{
 "cells": [
  {
   "cell_type": "markdown",
   "metadata": {},
   "source": [
    "# Create and display a minimal Downhole Collection object in Evo\n",
    "\n",
    "This notebook shows how to create, then display, a minimal Collection object from Evo.\n",
    "\n",
    "In this first cell we create a ServiceManagerWidget which will open a browser window and ask you to login.\n",
    "\n",
    "Once logged in, a widget will be displayed below allowing you to select an organisation and workspace to publish objects to.\n",
    "\n",
    "__Required:__ You must provide credentials via `EVO_CLIENT_ID`, `EVO_BASE_URI`, `EVO_DISCOVERY_URL` below."
   ]
  },
  {
   "cell_type": "code",
   "execution_count": null,
   "metadata": {},
   "outputs": [],
   "source": [
    "import os\n",
    "\n",
    "from evo.notebooks import ServiceManagerWidget\n",
    "\n",
    "# Credentials can be provided from .env or filled into second params below.\n",
    "client_id = os.getenv(\"EVO_CLIENT_ID\", \"\")\n",
    "base_uri = os.getenv(\"EVO_BASE_URI\", \"\")\n",
    "discovery_url = os.getenv(\"EVO_DISCOVERY_URL\", \"\")\n",
    "\n",
    "manager = await ServiceManagerWidget.with_auth_code(\n",
    "    client_id=client_id, base_uri=base_uri, discovery_url=discovery_url\n",
    ").login()"
   ]
  },
  {
   "cell_type": "code",
   "execution_count": null,
   "metadata": {},
   "outputs": [],
   "source": [
    "from evo.objects import ObjectAPIClient\n",
    "\n",
    "environment = manager.get_environment()\n",
    "connector = manager.get_connector()\n",
    "\n",
    "object_client = ObjectAPIClient(environment, connector)\n",
    "service_health = await object_client.get_service_health()\n",
    "data_client = object_client.get_data_client(manager.cache)"
   ]
  },
  {
   "cell_type": "code",
   "execution_count": null,
   "metadata": {},
   "outputs": [],
   "source": [
    "from IPython.display import display, Markdown\n",
    "\n",
    "obj_response = await object_client.download_object_by_path(\"/test/sample-downhole-collection.json\")\n",
    "\n",
    "downhole_obj = obj_response\n",
    "\n",
    "display(\n",
    "    Markdown(f\"\"\"```\n",
    "{downhole_obj.metadata}\n",
    "```\"\"\")\n",
    ")\n",
    "\n",
    "display(\n",
    "    Markdown(f\"\"\"```\n",
    "{downhole_obj.as_dict()}\n",
    "```\"\"\")\n",
    ")"
   ]
  },
  {
   "cell_type": "code",
   "execution_count": null,
   "metadata": {},
   "outputs": [],
   "source": []
  }
 ],
 "metadata": {
  "kernelspec": {
   "display_name": "Python 3 (ipykernel)",
   "language": "python",
   "name": "python3"
  },
  "language_info": {
   "codemirror_mode": {
    "name": "ipython",
    "version": 3
   },
   "file_extension": ".py",
   "mimetype": "text/x-python",
   "name": "python",
   "nbconvert_exporter": "python",
   "pygments_lexer": "ipython3",
   "version": "3.10.12"
  }
 },
 "nbformat": 4,
 "nbformat_minor": 4
}
