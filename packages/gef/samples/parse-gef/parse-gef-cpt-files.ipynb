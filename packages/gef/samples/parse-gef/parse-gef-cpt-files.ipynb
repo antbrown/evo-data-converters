{
 "cells": [
  {
   "cell_type": "markdown",
   "id": "0",
   "metadata": {},
   "source": [
    "## Parse GEF-CPT files\n",
    "\n",
    "This example shows how to use the Evo data converters library to check if a file is a GEF CPT file.\n",
    "\n",
    "Use `SEEQUENT_EVO_TESTFILE_GEF_CPT` to provide a glob of files to test, eg `/path-to-samples/gef/cpt/*/*.gef`."
   ]
  },
  {
   "cell_type": "code",
   "execution_count": null,
   "id": "1",
   "metadata": {},
   "outputs": [],
   "source": [
    "import glob\n",
    "import os\n",
    "\n",
    "from evo.data_converters.gef.importer.parse_gef_files import parse_gef_files\n",
    "\n",
    "pattern = os.getenv(\"SEEQUENT_EVO_TESTFILE_GEF_CPT\", f\"{os.getcwd()}/../../tests/data/gef-cpt/cpt.gef\")\n",
    "test_files = glob.glob(pattern)\n",
    "\n",
    "for file in test_files:\n",
    "    try:\n",
    "        cpt = parse_gef_files([file])\n",
    "        print(f\"Read GEF CPT file: {file}\")\n",
    "    except Exception as e:\n",
    "        print(f\"Not a GEF CPT file: {file}\")\n",
    "        print(f\"{type(e).__name__}: {e}\")"
   ]
  },
  {
   "cell_type": "code",
   "execution_count": null,
   "id": "2",
   "metadata": {},
   "outputs": [],
   "source": []
  }
 ],
 "metadata": {
  "kernelspec": {
   "display_name": "Python (GEF)",
   "language": "python",
   "name": "my_project_env"
  },
  "language_info": {
   "codemirror_mode": {
    "name": "ipython",
    "version": 3
   },
   "file_extension": ".py",
   "mimetype": "text/x-python",
   "name": "python",
   "nbconvert_exporter": "python",
   "pygments_lexer": "ipython3",
   "version": "3.10.12"
  }
 },
 "nbformat": 4,
 "nbformat_minor": 5
}
