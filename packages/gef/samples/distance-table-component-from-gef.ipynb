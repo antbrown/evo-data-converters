{
 "cells": [
  {
   "cell_type": "markdown",
   "id": "0",
   "metadata": {},
   "source": [
    "# Distance Table Component from GEF\n",
    "Read the file and then dump its content to view the raw dataset"
   ]
  },
  {
   "cell_type": "code",
   "execution_count": null,
   "id": "1",
   "metadata": {},
   "outputs": [],
   "source": [
    "from pygef.cpt import CPTData\n",
    "from evo.data_converters.gef.importer.parse_gef_files import parse_gef_files\n",
    "from pprint import pprint\n",
    "\n",
    "test_data_dir = \"detect-gef-file/data/input\"\n",
    "\n",
    "cpt_file = f\"{test_data_dir}/cpt.gef\"\n",
    "result = parse_gef_files([cpt_file])\n",
    "assert isinstance(result, dict)\n",
    "assert len(result) == 1\n",
    "for v in result.values():\n",
    "    assert isinstance(v, CPTData)\n",
    "print(\"CPT DICT:\")\n",
    "pprint(result)\n",
    "\n",
    "# Multiple GEF datasets, as a dict keyed by hole_id\n",
    "parsed_cpt_files = result"
   ]
  },
  {
   "cell_type": "code",
   "execution_count": null,
   "id": "2",
   "metadata": {},
   "outputs": [],
   "source": [
    "from evo.notebooks import ServiceManagerWidget\n",
    "\n",
    "manager = await ServiceManagerWidget.with_auth_code(\n",
    "    client_id=\"native-Aesb2WinpeP3ldYfhdSUfpc4x\",\n",
    "    base_uri=\"https://qa-ims.bentley.com\",\n",
    "    discovery_url=\"https://uat-api.test.seequent.systems\",\n",
    ").login()"
   ]
  },
  {
   "cell_type": "code",
   "execution_count": null,
   "id": "3",
   "metadata": {},
   "outputs": [],
   "source": [
    "from evo.data_converters.common import create_evo_object_service_and_data_client\n",
    "\n",
    "object_service_client, data_client = create_evo_object_service_and_data_client(service_manager_widget=manager)"
   ]
  },
  {
   "cell_type": "code",
   "execution_count": null,
   "id": "4",
   "metadata": {},
   "outputs": [],
   "source": [
    "from evo.objects.utils.data import ObjectDataClient\n",
    "from evo_schemas.components import (\n",
    "    DistanceTable_V1_2_0 as DistanceTable,\n",
    "    DistanceTable_V1_2_0_Distance as Distance,\n",
    "    CategoryAttribute_V1_1_0 as CategoryAttribute,\n",
    "    ContinuousAttribute_V1_1_0 as ContinuousAttribute,\n",
    "    NanCategorical_V1_0_1 as NanCategorical,\n",
    "    NanContinuous_V1_0_1 as NanContinuous,\n",
    ")\n",
    "from evo_schemas.elements import (\n",
    "    FloatArray1_V1_0_1 as FloatArray1,\n",
    "    IntegerArray1_V1_0_1 as IntegerArray1,\n",
    "    UnitLength_V1_0_1_UnitCategories as UnitLength_UnitCategories,\n",
    "    LookupTable_V1_0_1 as LookupTable,\n",
    ")\n",
    "import pyarrow as pa\n",
    "import pandas as pd"
   ]
  },
  {
   "cell_type": "code",
   "execution_count": null,
   "id": "5",
   "metadata": {},
   "outputs": [],
   "source": [
    "def create_category_lookup_and_data(column: pd.Series) -> tuple[pd.DataFrame, pd.DataFrame]:\n",
    "    \"\"\"\n",
    "    Create a category lookup table and a data column with mapped values.\n",
    "\n",
    "    Args:\n",
    "        column (pd.Series): The column to create the lookup table and data column from.\n",
    "\n",
    "    Returns:\n",
    "        lookup_df (pd.DataFrame): The category lookup table.\n",
    "        values_df (pd.DataFrame): The data column with mapped values.\n",
    "    \"\"\"\n",
    "    set_obj = set(column[\"data\"])\n",
    "    list_obj = list(set_obj)\n",
    "    list_obj.sort()\n",
    "    num_unique_elements = len(list_obj)\n",
    "\n",
    "    # Create lookup table\n",
    "    lookup_df = pd.DataFrame(list())\n",
    "    lookup_df[\"key\"] = [i for i in range(1, num_unique_elements + 1)]\n",
    "    lookup_df[\"value\"] = list_obj\n",
    "\n",
    "    # Create data column\n",
    "    values_df = pd.DataFrame(list())\n",
    "    values_df[\"data\"] = column[\"data\"].map(lookup_df.set_index(\"value\")[\"key\"])\n",
    "    return lookup_df, values_df"
   ]
  },
  {
   "cell_type": "code",
   "execution_count": null,
   "id": "6",
   "metadata": {},
   "outputs": [],
   "source": [
    "def _create_categorical_attribute_component(\n",
    "    key: str, name: str, source_df: pd.DataFrame, data_client: ObjectDataClient\n",
    ") -> CategoryAttribute:\n",
    "    table_df, values_df = create_category_lookup_and_data(source_df[name])\n",
    "\n",
    "    schema = pa.schema([(\"key\", pa.int64()), (\"value\", pa.string())])\n",
    "    table = pa.Table.from_pandas(table_df, schema=schema)\n",
    "    lookup_table_args = data_client.save_table(table)\n",
    "    lookup_table_go = LookupTable.from_dict(lookup_table_args)\n",
    "\n",
    "    schema = pa.schema([(\"data\", pa.int64())])\n",
    "    table = pa.Table.from_pandas(values_df, schema=schema)\n",
    "    int_array_args = data_client.save_table(table)\n",
    "    int_array_go = IntegerArray1.from_dict(int_array_args)\n",
    "\n",
    "    return CategoryAttribute(\n",
    "        key=name,\n",
    "        name=name,\n",
    "        nan_description=NanCategorical(values=[]),\n",
    "        table=lookup_table_go,\n",
    "        values=int_array_go,\n",
    "    )"
   ]
  },
  {
   "cell_type": "code",
   "execution_count": null,
   "id": "7",
   "metadata": {},
   "outputs": [],
   "source": [
    "def _create_continuous_attribute_component(\n",
    "    key: str, name: str, source_df: pd.DataFrame, data_client: ObjectDataClient\n",
    ") -> ContinuousAttribute:\n",
    "    array_values = source_df[name]\n",
    "    schema = pa.schema([(\"data\", pa.float64())])\n",
    "    values_df = pd.DataFrame(array_values, columns=[\"data\"])\n",
    "    table = pa.Table.from_pandas(values_df, schema=schema)\n",
    "    float_array_args = data_client.save_table(table)\n",
    "    float_array_go = FloatArray1.from_dict(float_array_args)\n",
    "\n",
    "    return ContinuousAttribute(\n",
    "        key=name,\n",
    "        name=name,\n",
    "        nan_description=NanContinuous(values=[]),\n",
    "        values=float_array_go,\n",
    "    )"
   ]
  },
  {
   "cell_type": "code",
   "execution_count": null,
   "id": "8",
   "metadata": {},
   "outputs": [],
   "source": [
    "from pygef.cpt import CPTData\n",
    "\n",
    "\n",
    "def _create_dc_distances_table(hole_id, cpt: CPTData, data_client: ObjectDataClient) -> DistanceTable | None:\n",
    "    distances_schema = pa.schema([pa.field(\"values\", pa.float64())])\n",
    "    distances_table = pa.Table.from_arrays(\n",
    "        [pa.array(cpt.data[\"penetrationLength\"], type=pa.float64())], schema=distances_schema\n",
    "    )\n",
    "    distances_args = data_client.save_table(distances_table)\n",
    "    distances_go = FloatArray1.from_dict(distances_args)\n",
    "\n",
    "    PROPERTIES_TO_IGNORE = [\n",
    "        \"penetrationLength\",\n",
    "        \"From\",\n",
    "        \"To\",\n",
    "        \"hole_ID\",\n",
    "    ]\n",
    "    CATEGORICAL_PROPERTIES = [\n",
    "        \"SBT\",\n",
    "        \"SBTn\",\n",
    "        \"cluster\",\n",
    "    ]\n",
    "\n",
    "    # Distance table attributes\n",
    "    attributes = []\n",
    "\n",
    "    columns = cpt.data.columns\n",
    "    for column_name in columns:\n",
    "        if column_name not in PROPERTIES_TO_IGNORE:\n",
    "            if column_name in CATEGORICAL_PROPERTIES:\n",
    "                try:\n",
    "                    attribute_go = _create_categorical_attribute_component(\n",
    "                        column_name,\n",
    "                        column_name,\n",
    "                        cpt.data,\n",
    "                        data_client,\n",
    "                    )\n",
    "                except pd.errors.InvalidIndexError:\n",
    "                    print(f\"Could not create {column_name} categorical attribute component.\")\n",
    "            else:\n",
    "                attribute_go = _create_continuous_attribute_component(\n",
    "                    column_name,\n",
    "                    column_name,\n",
    "                    cpt.data,\n",
    "                    data_client,\n",
    "                )\n",
    "            if isinstance(attribute_go, (ContinuousAttribute, CategoryAttribute)):\n",
    "                attributes.append(attribute_go)\n",
    "\n",
    "    distances_unit = UnitLength_UnitCategories(\"m\")\n",
    "\n",
    "    distance_go = Distance(\n",
    "        attributes=attributes,\n",
    "        unit=distances_unit,\n",
    "        values=distances_go,\n",
    "    )\n",
    "\n",
    "    distance_table_go = DistanceTable(name=hole_id, distance=distance_go)\n",
    "    return distance_table_go"
   ]
  },
  {
   "cell_type": "markdown",
   "id": "9",
   "metadata": {},
   "source": [
    "All the columns in this GEF dataset"
   ]
  },
  {
   "cell_type": "code",
   "execution_count": null,
   "id": "10",
   "metadata": {},
   "outputs": [],
   "source": [
    "for hole_id, cpt_data in parsed_cpt_files.items():\n",
    "    pprint(cpt_data.columns)"
   ]
  },
  {
   "cell_type": "markdown",
   "id": "11",
   "metadata": {},
   "source": [
    "Create distance table components for all holes in this GEF dataset"
   ]
  },
  {
   "cell_type": "code",
   "execution_count": null,
   "id": "12",
   "metadata": {},
   "outputs": [],
   "source": [
    "for hole_id, cpt_data in parsed_cpt_files.items():\n",
    "    distance_table = _create_dc_distances_table(hole_id, cpt_data, data_client)\n",
    "    pprint(distance_table)"
   ]
  },
  {
   "cell_type": "markdown",
   "id": "13",
   "metadata": {},
   "source": [
    "TODO:\n",
    "1) Adjust so we process multiple GEF files\n",
    "2) Finish with top-level 'collections' (DownholeAttributes) component, which contains the 'holes' (HoleChunks) data."
   ]
  }
 ],
 "metadata": {
  "kernelspec": {
   "display_name": "Python 3 (ipykernel)",
   "language": "python",
   "name": "python3"
  },
  "language_info": {
   "codemirror_mode": {
    "name": "ipython",
    "version": 3
   },
   "file_extension": ".py",
   "mimetype": "text/x-python",
   "name": "python",
   "nbconvert_exporter": "python",
   "pygments_lexer": "ipython3",
   "version": "3.10.18"
  }
 },
 "nbformat": 4,
 "nbformat_minor": 5
}
